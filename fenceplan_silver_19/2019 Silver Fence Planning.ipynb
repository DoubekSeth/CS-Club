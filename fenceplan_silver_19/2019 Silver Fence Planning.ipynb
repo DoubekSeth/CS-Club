{
 "cells": [
  {
   "cell_type": "code",
   "execution_count": 1,
   "metadata": {},
   "outputs": [],
   "source": [
    "#Problem\n",
    "#http://usaco.org/index.php?page=viewproblem2&cpid=944"
   ]
  },
  {
   "cell_type": "code",
   "execution_count": 2,
   "metadata": {},
   "outputs": [],
   "source": [
    "import re\n",
    "#Input Time\n",
    "def readIn(fileName):\n",
    "    file = open(fileName, \"r\")\n",
    "    contents = file.read()\n",
    "    file.close()\n",
    "    return contents"
   ]
  },
  {
   "cell_type": "code",
   "execution_count": 3,
   "metadata": {},
   "outputs": [],
   "source": [
    "#Put inputs into useful arrays returns (n, m, cowPosArr, mooNetArr)\n",
    "def arrs(fileName):\n",
    "    rawString = readIn(fileName)\n",
    "    count = 0\n",
    "    afterN = 0\n",
    "    foundN = False\n",
    "    for i in rawString:\n",
    "        count += 1\n",
    "        if(i == \" \" and not foundN):\n",
    "            n = int(rawString[:count])\n",
    "            afterN = count\n",
    "            foundN = True\n",
    "        if(i == \"\\n\"):\n",
    "            m = int(rawString[afterN:count])\n",
    "            break\n",
    "    splitted = re.split(r'[,\\n]', rawString)\n",
    "    cowSplit = 1\n",
    "    cowPosStr = []\n",
    "    while cowSplit <= n:\n",
    "        cowPosStr.append(splitted[cowSplit])\n",
    "        cowSplit += 1\n",
    "    mooNetStr = []\n",
    "    while cowSplit < len(splitted)-1:\n",
    "        mooNetStr.append(splitted[cowSplit])\n",
    "        cowSplit += 1\n",
    "    #cowPosArr\n",
    "    cowPosArr = []\n",
    "    for i in cowPosStr:\n",
    "        xy = i.split(\" \")\n",
    "        cowPosArr.append(xy)\n",
    "    #mooNetArr\n",
    "    mooNetArr = []\n",
    "    for i in mooNetStr:\n",
    "        pair = i.split(\" \")\n",
    "        mooNetArr.append(pair)\n",
    "    return n, m, cowPosArr, mooNetArr"
   ]
  },
  {
   "cell_type": "code",
   "execution_count": 14,
   "metadata": {},
   "outputs": [],
   "source": [
    "def recurCowNetFinder(mooNetArr, finding, foundArr, miniCowNums, bigCowNums):\n",
    "        if(not finding):\n",
    "            bigCowNums.append(miniCowNums)\n",
    "            miniCowNums = []\n",
    "            if(len(mooNetArr) == 0):\n",
    "                bigCowNums.pop(0)\n",
    "                return bigCowNums\n",
    "            else:\n",
    "                pair = mooNetArr.pop()\n",
    "                a = pair[0]\n",
    "                b = pair[1]\n",
    "                miniCowNums.append(a)\n",
    "                miniCowNums.append(b)\n",
    "        else:\n",
    "            a = foundArr[0]\n",
    "            b = foundArr[1]\n",
    "            miniCowNums.append(a)\n",
    "            miniCowNums.append(b)\n",
    "            mooNetArr.remove(foundArr)\n",
    "        found = False\n",
    "        for i in mooNetArr:\n",
    "            if(i[0] == a or i[1] == a):\n",
    "                found = True\n",
    "                foundArr = i\n",
    "                return recurCowNetFinder(mooNetArr, True, foundArr, miniCowNums, bigCowNums)\n",
    "            elif(i[0] == b or i[1] == b):\n",
    "                found = True\n",
    "                foundArr = i\n",
    "                return recurCowNetFinder(mooNetArr, True, foundArr, miniCowNums, bigCowNums)\n",
    "        if(not found):\n",
    "            return recurCowNetFinder(mooNetArr, False, [0, 0], miniCowNums, bigCowNums)"
   ]
  },
  {
   "cell_type": "code",
   "execution_count": 22,
   "metadata": {},
   "outputs": [
    {
     "data": {
      "text/plain": [
       "[[4, 5], [1, 2, 3]]"
      ]
     },
     "execution_count": 22,
     "metadata": {},
     "output_type": "execute_result"
    }
   ],
   "source": [
    "arr = [[1, 2], [2, 3], [4, 5]]\n",
    "yeet = recurCowNetFinder(arr, False, [0, 0], [], [])\n",
    "sortCowNet(yeet)"
   ]
  },
  {
   "cell_type": "code",
   "execution_count": 106,
   "metadata": {},
   "outputs": [],
   "source": [
    "def sortCowNet(mooNet):\n",
    "    sortedMooNet = []\n",
    "    for i in mooNet:\n",
    "        sortedMooNet.append(list(set(i)))\n",
    "    return sortedMooNet"
   ]
  },
  {
   "cell_type": "code",
   "execution_count": 128,
   "metadata": {},
   "outputs": [],
   "source": [
    "def findMinMaxNet(sortedMooNet, cowPosArr):\n",
    "    first = True\n",
    "    lowestPerim = 0\n",
    "    for i in sortedMooNet:\n",
    "        minY = int(cowPosArr[int(i[0]) - 1][1])\n",
    "        maxY = int(cowPosArr[int(i[0]) - 1][1])\n",
    "        minX = int(cowPosArr[int(i[0]) - 1][0])\n",
    "        maxX = int(cowPosArr[int(i[0]) - 1][0])\n",
    "        for j in i:\n",
    "            if(int(cowPosArr[int(j) - 1][1]) < minY):\n",
    "                minY = int(cowPosArr[int(j) - 1][1])\n",
    "            if(int(cowPosArr[int(j) - 1][1]) > maxY):\n",
    "                maxY = int(cowPosArr[int(j) - 1][1])\n",
    "            if(int(cowPosArr[int(j) - 1][0]) < minX):\n",
    "                minX = int(cowPosArr[int(j) - 1][0])\n",
    "            if(int(cowPosArr[int(j) - 1][0]) > maxX):\n",
    "                maxX = int(cowPosArr[int(j) - 1][0])\n",
    "        if(first):\n",
    "            first = False\n",
    "            lowestPerim = 2 * (maxY - minY + maxX - minX)\n",
    "        else:\n",
    "            currentPerim = 2 * (maxY - minY + maxX - minX)\n",
    "            if(currentPerim < lowestPerim):\n",
    "                lowestPerim = currentPerim\n",
    "    return lowestPerim"
   ]
  },
  {
   "cell_type": "code",
   "execution_count": 130,
   "metadata": {},
   "outputs": [],
   "source": [
    "def writeOut(fileName, perim):\n",
    "    file = open(fileName, \"w\")\n",
    "    file.write(perim)\n",
    "    file.close()"
   ]
  },
  {
   "cell_type": "code",
   "execution_count": 137,
   "metadata": {},
   "outputs": [
    {
     "name": "stdout",
     "output_type": "stream",
     "text": [
      "10\n"
     ]
    }
   ],
   "source": [
    "n, m, pos, moo = arrs(\"fenceplan_silver_open19/1.in\")\n",
    "sortedMoo = sortCowNet(recurCowNetFinder(moo, False, [0, 0], [], []))\n",
    "lowest = findMinMaxNet(sortedMoo, pos)\n",
    "print(lowest)\n",
    "#writeOut(\"fenceplan_silver_open19/1.out\")"
   ]
  },
  {
   "cell_type": "code",
   "execution_count": null,
   "metadata": {},
   "outputs": [],
   "source": []
  }
 ],
 "metadata": {
  "kernelspec": {
   "display_name": "Python 3",
   "language": "python",
   "name": "python3"
  },
  "language_info": {
   "codemirror_mode": {
    "name": "ipython",
    "version": 3
   },
   "file_extension": ".py",
   "mimetype": "text/x-python",
   "name": "python",
   "nbconvert_exporter": "python",
   "pygments_lexer": "ipython3",
   "version": "3.7.3"
  }
 },
 "nbformat": 4,
 "nbformat_minor": 2
}
